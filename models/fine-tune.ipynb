{
 "cells": [
  {
   "attachments": {},
   "cell_type": "markdown",
   "metadata": {},
   "source": [
    "# Bullet Forge Fine-tuning\n",
    "\n",
    "This notebook is used for fine-tuning the Bullet Forge model in Open AI's API. Please refer to the README for more details."
   ]
  },
  {
   "attachments": {},
   "cell_type": "markdown",
   "metadata": {},
   "source": [
    "## Step 1: Provide Required Arguments\n",
    "Make sure to provide the following arguments:\n",
    "- JSONL_FILE: The path to the JSONL file containing the training data.\n",
    "- BASE_MODEL: The base model to use for fine-tuning."
   ]
  },
  {
   "cell_type": "code",
   "execution_count": 4,
   "metadata": {},
   "outputs": [
    {
     "name": "stdout",
     "output_type": "stream",
     "text": [
      "==> Provided JSONL file path: ./example-data.jsonl\n",
      "==> OpenAI base model: ada-003-text\n",
      "==> Fine-tuned model suffix: example-data\n"
     ]
    }
   ],
   "source": [
    "JSONL_FILE = input(\"Enter the path to the JSON file: \")\n",
    "print(f\"==> Provided JSONL file path: {JSONL_FILE}\")\n",
    "BASE_MODEL = input(\"Enter the base model: \")\n",
    "print(f\"==> OpenAI base model: {BASE_MODEL}\")\n",
    "FINE_TUNED_MODEL_NAME = input(\"Enter fine-tuned model suffix: \")\n",
    "print(f\"==> Fine-tuned model suffix: {FINE_TUNED_MODEL_NAME}\")"
   ]
  },
  {
   "attachments": {},
   "cell_type": "markdown",
   "metadata": {},
   "source": [
    "## Step 2: Check Training Data\n",
    "\n",
    "Prepare the training data by checking on its validity and effectiveness using the provided JSONL file."
   ]
  },
  {
   "cell_type": "code",
   "execution_count": 5,
   "metadata": {},
   "outputs": [
    {
     "name": "stdout",
     "output_type": "stream",
     "text": [
      "==> Preparing training data...\n",
      "Analyzing...\n",
      "\n",
      "- Your file contains 3 prompt-completion pairs. In general, we recommend having at least a few hundred examples. We've found that performance tends to linearly increase for every doubling of the number of examples\n",
      "- All prompts end with suffix `ation>`\n",
      "- All prompts start with prefix `<prompt for `\n",
      "==> Error: Failed to analyze training data.\n",
      "==> Error: \n",
      "\n",
      "ERROR in common_suffix validator: All completions are identical: `<ideal generated bullet>`\n",
      "Ensure completions are different, otherwise the model will just repeat `<ideal generated bullet>`\n",
      "\n",
      "Aborting...\n"
     ]
    }
   ],
   "source": [
    "import subprocess\n",
    "\n",
    "print(\"==> Preparing training data...\")\n",
    "if not JSONL_FILE:\n",
    "    print(\"==> Error: Provided JSONL file or path invalid\")\n",
    "    exit\n",
    "PREPARED_DATA = subprocess.run(['openai', 'tools', 'fine_tunes.prepare_data', '-f', JSONL_FILE], capture_output=True, text=True)\n",
    "print(PREPARED_DATA.stdout)\n",
    "if PREPARED_DATA.returncode == 0:\n",
    "    print(\"==> Training data looks good!\")\n",
    "else:\n",
    "    print(\"==> Error: Failed to analyze training data.\")\n",
    "    print(f\"==> Error: {PREPARED_DATA.stderr}\")\n"
   ]
  },
  {
   "attachments": {},
   "cell_type": "markdown",
   "metadata": {},
   "source": [
    "## Step 3: Provide OpenAI API Key\n",
    "\n",
    "Make sure to provide the following arguments:\n",
    "- OPENAI_API_KEY: Your OpenAI API key\n",
    "\n",
    "**_WARNING_**: Do not expose your OpenAI API key to the public repository."
   ]
  },
  {
   "cell_type": "code",
   "execution_count": 6,
   "metadata": {},
   "outputs": [
    {
     "name": "stdout",
     "output_type": "stream",
     "text": [
      "==> API_KEY: ***************************************************\n"
     ]
    }
   ],
   "source": [
    "import openai\n",
    "\n",
    "OPENAI_API_KEY = input(\"Enter your OpenAI API Key: \")\n",
    "MASKED_OPENAI_API_KEY = \"*\" * len(OPENAI_API_KEY) if OPENAI_API_KEY else \"Error: No key found!\"\n",
    "\n",
    "openai.api_key = OPENAI_API_KEY\n",
    "print(\"==> API_KEY:\", MASKED_OPENAI_API_KEY)"
   ]
  },
  {
   "attachments": {},
   "cell_type": "markdown",
   "metadata": {},
   "source": [
    "## Step 4: Create Fine-Tuning File\n",
    "\n",
    "Upload files to your instance of OpenAI API prior to running the fine-tuning job. This helps catch mistakes within the training file prior to running a fine-tuning job and persists the data in your API instance."
   ]
  },
  {
   "cell_type": "code",
   "execution_count": 7,
   "metadata": {},
   "outputs": [
    {
     "name": "stdout",
     "output_type": "stream",
     "text": [
      "==> Starting training data upload job...\n",
      "==> Training data upload job started...\n",
      "==> Training data uploaded\n",
      "==> Response object: ${\n",
      "  \"object\": \"file\",\n",
      "  \"id\": \"file-hvTwdbDdNcpeAxGDBAABRnIM\",\n",
      "  \"purpose\": \"fine-tune\",\n",
      "  \"filename\": \"file\",\n",
      "  \"bytes\": 282,\n",
      "  \"created_at\": 1688161142,\n",
      "  \"status\": \"uploaded\",\n",
      "  \"status_details\": null\n",
      "}\n",
      "==> File ID: $file-hvTwdbDdNcpeAxGDBAABRnIM\n"
     ]
    }
   ],
   "source": [
    "import openai\n",
    "\n",
    "print(\"==> Starting training data upload job...\")\n",
    "if not PREPARED_DATA.returncode == 0:\n",
    "    exit\n",
    "print(\"==> Training data upload job started...\")\n",
    "\n",
    "response = openai.File.create(\n",
    "    file=open(JSONL_FILE, encoding=\"utf-8\"),\n",
    "    purpose=\"fine-tune\"\n",
    ")\n",
    "\n",
    "if response.status == \"uploaded\":\n",
    "    print(\"==> Training data uploaded\")\n",
    "else:\n",
    "    print(\"==> Failed to upload training data.\")\n",
    "print(f\"==> Response object: ${response}\")\n",
    "\n",
    "FILE_ID = response[\"id\"]\n",
    "print(f\"==> File ID: ${FILE_ID}\")"
   ]
  },
  {
   "attachments": {},
   "cell_type": "markdown",
   "metadata": {},
   "source": [
    "_**Deleting Uploaded Fine-Tuning Training Files**_: There may be times when you want to delete training files from your API instance."
   ]
  },
  {
   "cell_type": "code",
   "execution_count": 16,
   "metadata": {},
   "outputs": [
    {
     "name": "stdout",
     "output_type": "stream",
     "text": [
      "==> Training data deleted!\n",
      "==> Response object: ${\n",
      "  \"object\": \"file\",\n",
      "  \"id\": \"file-g0a8t3jycHrBF62RKhrq7NAD\",\n",
      "  \"deleted\": true\n",
      "}\n"
     ]
    }
   ],
   "source": [
    "import openai\n",
    "\n",
    "response = openai.File.delete(sid=FILE_ID)\n",
    "\n",
    "if response.deleted:\n",
    "    print(\"==> Training data deleted!\")\n",
    "else:\n",
    "    print(\"==> Error: Failed to delete training data.\")\n",
    "\n",
    "print(f\"==> Response object: ${response}\")"
   ]
  },
  {
   "attachments": {},
   "cell_type": "markdown",
   "metadata": {},
   "source": [
    "## Step 5: Start the Fine-Tuning Job\n",
    "\n",
    "Once the request is made to the API, the fine-tuning may take a while to complete. The following will check for completion periodically."
   ]
  },
  {
   "cell_type": "code",
   "execution_count": 8,
   "metadata": {},
   "outputs": [
    {
     "name": "stdout",
     "output_type": "stream",
     "text": [
      "==> Starting fine-tuning job...\n",
      "==> Fine-tuning job started.\n"
     ]
    },
    {
     "ename": "InvalidRequestError",
     "evalue": "Billing hard limit has been reached",
     "output_type": "error",
     "traceback": [
      "\u001b[0;31m---------------------------------------------------------------------------\u001b[0m",
      "\u001b[0;31mInvalidRequestError\u001b[0m                       Traceback (most recent call last)",
      "Cell \u001b[0;32mIn[8], line 12\u001b[0m\n\u001b[1;32m      9\u001b[0m     exit\n\u001b[1;32m     10\u001b[0m \u001b[39mprint\u001b[39m(\u001b[39m\"\u001b[39m\u001b[39m==> Fine-tuning job started.\u001b[39m\u001b[39m\"\u001b[39m)\n\u001b[0;32m---> 12\u001b[0m response \u001b[39m=\u001b[39m openai\u001b[39m.\u001b[39;49mFineTune\u001b[39m.\u001b[39;49mcreate(\n\u001b[1;32m     13\u001b[0m   model\u001b[39m=\u001b[39;49mBASE_MODEL,\n\u001b[1;32m     14\u001b[0m   training_file\u001b[39m=\u001b[39;49mFILE_ID,\n\u001b[1;32m     15\u001b[0m   suffix \u001b[39m=\u001b[39;49m FINE_TUNED_MODEL_NAME\n\u001b[1;32m     16\u001b[0m )\n\u001b[1;32m     18\u001b[0m \u001b[39mprint\u001b[39m(\u001b[39m\"\u001b[39m\u001b[39m==> Fine-tuning in-progress...\u001b[39m\u001b[39m\"\u001b[39m)\n\u001b[1;32m     19\u001b[0m \u001b[39mif\u001b[39;00m response\u001b[39m.\u001b[39mstatus_code \u001b[39m==\u001b[39m \u001b[39m200\u001b[39m:\n",
      "File \u001b[0;32m~/Documents/Code/personal/smarter-bullets/.venv/lib/python3.11/site-packages/openai/api_resources/abstract/createable_api_resource.py:57\u001b[0m, in \u001b[0;36mCreateableAPIResource.create\u001b[0;34m(cls, api_key, api_base, api_type, request_id, api_version, organization, **params)\u001b[0m\n\u001b[1;32m     38\u001b[0m \u001b[39m@classmethod\u001b[39m\n\u001b[1;32m     39\u001b[0m \u001b[39mdef\u001b[39;00m \u001b[39mcreate\u001b[39m(\n\u001b[1;32m     40\u001b[0m     \u001b[39mcls\u001b[39m,\n\u001b[0;32m   (...)\u001b[0m\n\u001b[1;32m     47\u001b[0m     \u001b[39m*\u001b[39m\u001b[39m*\u001b[39mparams,\n\u001b[1;32m     48\u001b[0m ):\n\u001b[1;32m     49\u001b[0m     requestor, url \u001b[39m=\u001b[39m \u001b[39mcls\u001b[39m\u001b[39m.\u001b[39m__prepare_create_requestor(\n\u001b[1;32m     50\u001b[0m         api_key,\n\u001b[1;32m     51\u001b[0m         api_base,\n\u001b[0;32m   (...)\u001b[0m\n\u001b[1;32m     54\u001b[0m         organization,\n\u001b[1;32m     55\u001b[0m     )\n\u001b[0;32m---> 57\u001b[0m     response, _, api_key \u001b[39m=\u001b[39m requestor\u001b[39m.\u001b[39;49mrequest(\n\u001b[1;32m     58\u001b[0m         \u001b[39m\"\u001b[39;49m\u001b[39mpost\u001b[39;49m\u001b[39m\"\u001b[39;49m, url, params, request_id\u001b[39m=\u001b[39;49mrequest_id\n\u001b[1;32m     59\u001b[0m     )\n\u001b[1;32m     61\u001b[0m     \u001b[39mreturn\u001b[39;00m util\u001b[39m.\u001b[39mconvert_to_openai_object(\n\u001b[1;32m     62\u001b[0m         response,\n\u001b[1;32m     63\u001b[0m         api_key,\n\u001b[0;32m   (...)\u001b[0m\n\u001b[1;32m     66\u001b[0m         plain_old_data\u001b[39m=\u001b[39m\u001b[39mcls\u001b[39m\u001b[39m.\u001b[39mplain_old_data,\n\u001b[1;32m     67\u001b[0m     )\n",
      "File \u001b[0;32m~/Documents/Code/personal/smarter-bullets/.venv/lib/python3.11/site-packages/openai/api_requestor.py:298\u001b[0m, in \u001b[0;36mAPIRequestor.request\u001b[0;34m(self, method, url, params, headers, files, stream, request_id, request_timeout)\u001b[0m\n\u001b[1;32m    277\u001b[0m \u001b[39mdef\u001b[39;00m \u001b[39mrequest\u001b[39m(\n\u001b[1;32m    278\u001b[0m     \u001b[39mself\u001b[39m,\n\u001b[1;32m    279\u001b[0m     method,\n\u001b[0;32m   (...)\u001b[0m\n\u001b[1;32m    286\u001b[0m     request_timeout: Optional[Union[\u001b[39mfloat\u001b[39m, Tuple[\u001b[39mfloat\u001b[39m, \u001b[39mfloat\u001b[39m]]] \u001b[39m=\u001b[39m \u001b[39mNone\u001b[39;00m,\n\u001b[1;32m    287\u001b[0m ) \u001b[39m-\u001b[39m\u001b[39m>\u001b[39m Tuple[Union[OpenAIResponse, Iterator[OpenAIResponse]], \u001b[39mbool\u001b[39m, \u001b[39mstr\u001b[39m]:\n\u001b[1;32m    288\u001b[0m     result \u001b[39m=\u001b[39m \u001b[39mself\u001b[39m\u001b[39m.\u001b[39mrequest_raw(\n\u001b[1;32m    289\u001b[0m         method\u001b[39m.\u001b[39mlower(),\n\u001b[1;32m    290\u001b[0m         url,\n\u001b[0;32m   (...)\u001b[0m\n\u001b[1;32m    296\u001b[0m         request_timeout\u001b[39m=\u001b[39mrequest_timeout,\n\u001b[1;32m    297\u001b[0m     )\n\u001b[0;32m--> 298\u001b[0m     resp, got_stream \u001b[39m=\u001b[39m \u001b[39mself\u001b[39;49m\u001b[39m.\u001b[39;49m_interpret_response(result, stream)\n\u001b[1;32m    299\u001b[0m     \u001b[39mreturn\u001b[39;00m resp, got_stream, \u001b[39mself\u001b[39m\u001b[39m.\u001b[39mapi_key\n",
      "File \u001b[0;32m~/Documents/Code/personal/smarter-bullets/.venv/lib/python3.11/site-packages/openai/api_requestor.py:700\u001b[0m, in \u001b[0;36mAPIRequestor._interpret_response\u001b[0;34m(self, result, stream)\u001b[0m\n\u001b[1;32m    692\u001b[0m     \u001b[39mreturn\u001b[39;00m (\n\u001b[1;32m    693\u001b[0m         \u001b[39mself\u001b[39m\u001b[39m.\u001b[39m_interpret_response_line(\n\u001b[1;32m    694\u001b[0m             line, result\u001b[39m.\u001b[39mstatus_code, result\u001b[39m.\u001b[39mheaders, stream\u001b[39m=\u001b[39m\u001b[39mTrue\u001b[39;00m\n\u001b[1;32m    695\u001b[0m         )\n\u001b[1;32m    696\u001b[0m         \u001b[39mfor\u001b[39;00m line \u001b[39min\u001b[39;00m parse_stream(result\u001b[39m.\u001b[39miter_lines())\n\u001b[1;32m    697\u001b[0m     ), \u001b[39mTrue\u001b[39;00m\n\u001b[1;32m    698\u001b[0m \u001b[39melse\u001b[39;00m:\n\u001b[1;32m    699\u001b[0m     \u001b[39mreturn\u001b[39;00m (\n\u001b[0;32m--> 700\u001b[0m         \u001b[39mself\u001b[39;49m\u001b[39m.\u001b[39;49m_interpret_response_line(\n\u001b[1;32m    701\u001b[0m             result\u001b[39m.\u001b[39;49mcontent\u001b[39m.\u001b[39;49mdecode(\u001b[39m\"\u001b[39;49m\u001b[39mutf-8\u001b[39;49m\u001b[39m\"\u001b[39;49m),\n\u001b[1;32m    702\u001b[0m             result\u001b[39m.\u001b[39;49mstatus_code,\n\u001b[1;32m    703\u001b[0m             result\u001b[39m.\u001b[39;49mheaders,\n\u001b[1;32m    704\u001b[0m             stream\u001b[39m=\u001b[39;49m\u001b[39mFalse\u001b[39;49;00m,\n\u001b[1;32m    705\u001b[0m         ),\n\u001b[1;32m    706\u001b[0m         \u001b[39mFalse\u001b[39;00m,\n\u001b[1;32m    707\u001b[0m     )\n",
      "File \u001b[0;32m~/Documents/Code/personal/smarter-bullets/.venv/lib/python3.11/site-packages/openai/api_requestor.py:763\u001b[0m, in \u001b[0;36mAPIRequestor._interpret_response_line\u001b[0;34m(self, rbody, rcode, rheaders, stream)\u001b[0m\n\u001b[1;32m    761\u001b[0m stream_error \u001b[39m=\u001b[39m stream \u001b[39mand\u001b[39;00m \u001b[39m\"\u001b[39m\u001b[39merror\u001b[39m\u001b[39m\"\u001b[39m \u001b[39min\u001b[39;00m resp\u001b[39m.\u001b[39mdata\n\u001b[1;32m    762\u001b[0m \u001b[39mif\u001b[39;00m stream_error \u001b[39mor\u001b[39;00m \u001b[39mnot\u001b[39;00m \u001b[39m200\u001b[39m \u001b[39m<\u001b[39m\u001b[39m=\u001b[39m rcode \u001b[39m<\u001b[39m \u001b[39m300\u001b[39m:\n\u001b[0;32m--> 763\u001b[0m     \u001b[39mraise\u001b[39;00m \u001b[39mself\u001b[39m\u001b[39m.\u001b[39mhandle_error_response(\n\u001b[1;32m    764\u001b[0m         rbody, rcode, resp\u001b[39m.\u001b[39mdata, rheaders, stream_error\u001b[39m=\u001b[39mstream_error\n\u001b[1;32m    765\u001b[0m     )\n\u001b[1;32m    766\u001b[0m \u001b[39mreturn\u001b[39;00m resp\n",
      "\u001b[0;31mInvalidRequestError\u001b[0m: Billing hard limit has been reached"
     ]
    }
   ],
   "source": [
    "import openai\n",
    "\n",
    "print(\"==> Starting fine-tuning job...\")\n",
    "if not FILE_ID:\n",
    "    print(\"==> Error: Provided FILE_ID invalid\")\n",
    "    exit\n",
    "if not BASE_MODEL:\n",
    "    print(\"==> Error: Provided BASE_MODEL invalid\")\n",
    "    exit\n",
    "print(\"==> Fine-tuning job started.\")\n",
    "\n",
    "response = openai.FineTune.create(\n",
    "  model=BASE_MODEL,\n",
    "  training_file=FILE_ID,\n",
    "  suffix = FINE_TUNED_MODEL_NAME\n",
    ")\n",
    "\n",
    "print(\"==> Fine-tuning in-progress...\")\n",
    "if response.status_code == 200:\n",
    "  print(f\"Fine-tuned Model ID: {response.json()['id']}\")\n",
    "else:\n",
    "  print(f\"Error Occurred: {response.json()['error']}\")\n",
    "  exit\n",
    "\n",
    "print(\"==> Fine-tuning completed!\")"
   ]
  },
  {
   "attachments": {},
   "cell_type": "markdown",
   "metadata": {},
   "source": [
    "## Step 6: Use The Fine-Tuned Model\n",
    "\n",
    "Fine-tuned model CLI usage: \n",
    "\n",
    "```bash\n",
    "openai api completions.create -m <FINE_TUNED_MODEL> -p <YOUR PROMPT>\n",
    "```\n",
    "\n",
    "For usage of the fine-tuned model, please refer to the code within the `server/bulletForge/` directory.\n"
   ]
  }
 ],
 "metadata": {
  "kernelspec": {
   "display_name": "Python 3",
   "language": "python",
   "name": "python3"
  },
  "language_info": {
   "codemirror_mode": {
    "name": "ipython",
    "version": 3
   },
   "file_extension": ".py",
   "mimetype": "text/x-python",
   "name": "python",
   "nbconvert_exporter": "python",
   "pygments_lexer": "ipython3",
   "version": "3.11.4"
  },
  "orig_nbformat": 4
 },
 "nbformat": 4,
 "nbformat_minor": 2
}
