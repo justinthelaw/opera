{
 "cells": [
  {
   "attachments": {},
   "cell_type": "markdown",
   "metadata": {},
   "source": [
    "# Bullet Forge Training Data\n",
    "\n",
    "This notebook is used for forming the JSONL files used by `fine-tune.ipynb` to fine-tune the base model. The goal is to use `bullet-scraper.py` to scrape for open-source bullets at a particular URL and use those as completions. Then, those completions have prompts that are a combination of ChatGPT generated long-form paragraphs from those bullets, prepended with the bullet formatting prompt."
   ]
  },
  {
   "attachments": {},
   "cell_type": "markdown",
   "metadata": {},
   "source": [
    "## Step 1: Run the Bullet Scraper\n",
    "\n",
    "Please see the `scraper/` directory for more details.\n",
    "\n",
    "In `bullet-scraper.py`, arguments are required to run the script:\n",
    "- BASE_URL: a base URL with protocol, e.g., 'https://www.eprbullets.com'\n",
    "- FILE_NAME: a file name, e.g., 'www-eprbullets-com'\n",
    "\n",
    "You can run this block as many times as required to scrape the URLs that have been identified as containing bullets."
   ]
  },
  {
   "cell_type": "code",
   "execution_count": null,
   "metadata": {},
   "outputs": [],
   "source": [
    "BASE_URL = input(\"Enter the protocol and base URL from which to scrape: \")\n",
    "print(f\"==> Provided base URL: {BASE_URL}\")\n",
    "FILE_NAME = input(\"Provide the file name that you would like to print output to: \")\n",
    "print(f\"==> Provided file name: {FILE_NAME}\")\n",
    "FILE_PATH = f\"data/raw/{FILE_NAME}.txt\"\n",
    "print(f\"==> Generated file path: {FILE_PATH}\")\n",
    "\n",
    "!python3 ./scraper/bullet_scraper.py \"{BASE_URL}\" \"{FILE_PATH}\""
   ]
  }
 ],
 "metadata": {
  "kernelspec": {
   "display_name": ".venv",
   "language": "python",
   "name": "python3"
  },
  "language_info": {
   "codemirror_mode": {
    "name": "ipython",
    "version": 3
   },
   "file_extension": ".py",
   "mimetype": "text/x-python",
   "name": "python",
   "nbconvert_exporter": "python",
   "pygments_lexer": "ipython3",
   "version": "3.11.4"
  },
  "orig_nbformat": 4
 },
 "nbformat": 4,
 "nbformat_minor": 2
}
