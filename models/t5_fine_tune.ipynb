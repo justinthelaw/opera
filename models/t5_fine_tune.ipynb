# Import necessary libraries
import torch
from transformers import T5Tokenizer, T5ForConditionalGeneration
import pandas as pd

# Load and preprocess training data
data = pd.read_json('models/data/training/data.jsonl', lines=True)
inputs = data['summary'].values
targets = data['evaluation'].values

# Define the T5 model
tokenizer = T5Tokenizer.from_pretrained('t5-base')
model = T5ForConditionalGeneration.from_pretrained('t5-base')

# Train the T5 model
for i in range(len(inputs)):
    input_ids = tokenizer.encode(inputs[i], return_tensors='pt')
    labels = tokenizer.encode(targets[i], return_tensors='pt')
    loss = model(input_ids=input_ids, labels=labels).loss
    loss.backward()
    optimizer.step()

# Save the fine-tuned model
torch.save(model.state_dict(), 'models/t5_fine_tuned.pth')
