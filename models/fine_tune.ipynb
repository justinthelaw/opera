{
 "cells": [
  {
   "attachments": {},
   "cell_type": "markdown",
   "metadata": {},
   "source": [
    "# Bullet Forge Fine-tuning\n",
    "\n",
    "This notebook is used for fine-tuning the Bullet Forge model in Open AI's API. Please refer to the README for more details."
   ]
  },
  {
   "attachments": {},
   "cell_type": "markdown",
   "metadata": {},
   "source": [
    "## Step 1: Provide Required Arguments\n",
    "Make sure to provide the following arguments:\n",
    "- JSONL_FILE: The path to the JSONL file containing the training data.\n",
    "- BASE_MODEL: The base model to use for fine-tuning."
   ]
  },
  {
   "cell_type": "code",
   "execution_count": null,
   "metadata": {},
   "outputs": [],
   "source": [
    "JSONL_FILE = input(\"Enter the path to the JSON file\")\n",
    "print(f\"==> Provided JSONL file path: {JSONL_FILE}\")\n",
    "BASE_MODEL = input(\"Enter the base model\")\n",
    "print(f\"==> OpenAI base model: {BASE_MODEL}\")\n",
    "FINE_TUNED_MODEL_NAME = input(\"Enter fine-tuned model suffix\")\n",
    "print(f\"==> Fine-tuned model suffix: {FINE_TUNED_MODEL_NAME}\")"
   ]
  },
  {
   "attachments": {},
   "cell_type": "markdown",
   "metadata": {},
   "source": [
    "## Step 2: Check Training Data\n",
    "\n",
    "Prepare the training data by checking on its validity and effectiveness using the provided JSONL file."
   ]
  },
  {
   "cell_type": "code",
   "execution_count": null,
   "metadata": {},
   "outputs": [],
   "source": [
    "import subprocess\n",
    "\n",
    "print(\"==> Preparing training data...\")\n",
    "if not JSONL_FILE:\n",
    "    print(\"==> Error: Provided JSONL file or path invalid\")\n",
    "    exit\n",
    "PREPARED_DATA = subprocess.run(['openai', 'tools', 'fine_tunes.prepare_data', '-f', JSONL_FILE], capture_output=True, text=True)\n",
    "print(PREPARED_DATA.stdout)\n",
    "if PREPARED_DATA.returncode == 0:\n",
    "    print(\"==> Training data looks good!\")\n",
    "else:\n",
    "    print(\"==> Error: Failed to analyze training data.\")\n",
    "    print(f\"==> Error: {PREPARED_DATA.stderr}\")\n"
   ]
  },
  {
   "attachments": {},
   "cell_type": "markdown",
   "metadata": {},
   "source": [
    "## Step 3: Provide OpenAI API Key\n",
    "\n",
    "Make sure to provide the following arguments:\n",
    "- OPENAI_API_KEY: Your OpenAI API key\n",
    "\n",
    "**_WARNING_**: Do not expose your OpenAI API key to the public repository."
   ]
  },
  {
   "cell_type": "code",
   "execution_count": null,
   "metadata": {},
   "outputs": [],
   "source": [
    "import openai\n",
    "\n",
    "OPENAI_API_KEY = input(\"Enter your OpenAI API Key\")\n",
    "MASKED_OPENAI_API_KEY = \"*\" * len(OPENAI_API_KEY) if OPENAI_API_KEY else \"Error: No key found!\"\n",
    "\n",
    "openai.api_key = OPENAI_API_KEY\n",
    "print(\"==> API_KEY:\", MASKED_OPENAI_API_KEY)"
   ]
  },
  {
   "attachments": {},
   "cell_type": "markdown",
   "metadata": {},
   "source": [
    "## Step 4: Create Fine-Tuning File\n",
    "\n",
    "Upload files to your instance of OpenAI API prior to running the fine-tuning job. This helps catch mistakes within the training file prior to running a fine-tuning job and persists the data in your API instance."
   ]
  },
  {
   "cell_type": "code",
   "execution_count": null,
   "metadata": {},
   "outputs": [],
   "source": [
    "import openai\n",
    "\n",
    "print(\"==> Starting training data upload job...\")\n",
    "if not PREPARED_DATA.returncode == 0:\n",
    "    exit\n",
    "print(\"==> Training data upload job started...\")\n",
    "\n",
    "response = openai.File.create(\n",
    "    file=open(JSONL_FILE, encoding=\"utf-8\"),\n",
    "    purpose=\"fine-tune\"\n",
    ")\n",
    "\n",
    "if response.status == \"uploaded\":\n",
    "    print(\"==> Training data uploaded\")\n",
    "else:\n",
    "    print(\"==> Failed to upload training data.\")\n",
    "print(f\"==> Response object: ${response}\")\n",
    "\n",
    "FILE_ID = response[\"id\"]\n",
    "print(f\"==> File ID: ${FILE_ID}\")"
   ]
  },
  {
   "attachments": {},
   "cell_type": "markdown",
   "metadata": {},
   "source": [
    "_**Deleting Uploaded Fine-Tuning Training Files**_: There may be times when you want to delete training files from your API instance."
   ]
  },
  {
   "cell_type": "code",
   "execution_count": null,
   "metadata": {},
   "outputs": [],
   "source": [
    "import openai\n",
    "\n",
    "response = openai.File.delete(sid=FILE_ID)\n",
    "\n",
    "if response.deleted:\n",
    "    print(\"==> Training data deleted!\")\n",
    "else:\n",
    "    print(\"==> Error: Failed to delete training data.\")\n",
    "\n",
    "print(f\"==> Response object: ${response}\")"
   ]
  },
  {
   "attachments": {},
   "cell_type": "markdown",
   "metadata": {},
   "source": [
    "## Step 5: Start the Fine-Tuning Job\n",
    "\n",
    "Once the request is made to the API, the fine-tuning may take a while to complete. The following will check for completion periodically."
   ]
  },
  {
   "cell_type": "code",
   "execution_count": null,
   "metadata": {},
   "outputs": [],
   "source": [
    "import openai\n",
    "\n",
    "print(\"==> Starting fine-tuning job...\")\n",
    "if not FILE_ID:\n",
    "    print(\"==> Error: Provided FILE_ID invalid\")\n",
    "    exit\n",
    "if not BASE_MODEL:\n",
    "    print(\"==> Error: Provided BASE_MODEL invalid\")\n",
    "    exit\n",
    "print(\"==> Fine-tuning job started.\")\n",
    "\n",
    "response = openai.FineTune.create(\n",
    "  model=BASE_MODEL,\n",
    "  training_file=FILE_ID,\n",
    "  suffix = FINE_TUNED_MODEL_NAME\n",
    ")\n",
    "\n",
    "print(\"==> Fine-tuning in-progress...\")\n",
    "if response.status_code == 200:\n",
    "  print(f\"Fine-tuned Model ID: {response.json()['id']}\")\n",
    "else:\n",
    "  print(f\"Error Occurred: {response.json()['error']}\")\n",
    "  exit\n",
    "\n",
    "print(\"==> Fine-tuning completed!\")"
   ]
  },
  {
   "attachments": {},
   "cell_type": "markdown",
   "metadata": {},
   "source": [
    "## Step 6: Use The Fine-Tuned Model\n",
    "\n",
    "Fine-tuned model CLI usage: \n",
    "\n",
    "```bash\n",
    "openai api completions.create -m <FINE_TUNED_MODEL> -p <YOUR PROMPT>\n",
    "```\n",
    "\n",
    "For usage of the fine-tuned model, please refer to the code within the `server/bulletForge/` directory.\n"
   ]
  }
 ],
 "metadata": {
  "kernelspec": {
   "display_name": "Python 3",
   "language": "python",
   "name": "python3"
  },
  "language_info": {
   "codemirror_mode": {
    "name": "ipython",
    "version": 3
   },
   "file_extension": ".py",
   "mimetype": "text/x-python",
   "name": "python",
   "nbconvert_exporter": "python",
   "pygments_lexer": "ipython3",
   "version": "3.11.4"
  },
  "orig_nbformat": 4
 },
 "nbformat": 4,
 "nbformat_minor": 2
}
