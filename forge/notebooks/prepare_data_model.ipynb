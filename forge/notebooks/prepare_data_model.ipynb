{
 "cells": [
  {
   "attachments": {},
   "cell_type": "markdown",
   "metadata": {},
   "source": [
    "# Generating Training Data and Pulling a Model\n",
    "\n",
    "This notebook is used for forming the JSONL files used by `fine_tune.ipynb` to fine-tune the base model. The goal is to use `scrape.py` to scrape for open-source bullets at a particular URL and use those as completions. Then, those completions have prompts that are a combination of ChatGPT generated long-form paragraphs from those bullets, prepended with the bullet formatting prompt."
   ]
  },
  {
   "attachments": {},
   "cell_type": "markdown",
   "metadata": {},
   "source": [
    "## Step 1: Run the Bullet Scraper\n",
    "\n",
    "Please see the `scripts/` directory for more details. Please be warned that the scraper, although parallelized, may take a long time to run through all of the identified bullet repositories.\n",
    "\n",
    "The block below runs the scraper on all the easily scrape-able websites located within the `resources/websites.txt` file."
   ]
  },
  {
   "cell_type": "code",
   "execution_count": null,
   "metadata": {},
   "outputs": [],
   "source": [
    "import subprocess\n",
    "\n",
    "with open('../resources/websites.txt', 'r') as file:\n",
    "    urls = [url.strip() for url in file.readlines()]\n",
    "\n",
    "for url in urls:\n",
    "    subprocess.run([\"python3\", \"scripts/scrape.py\", url])"
   ]
  },
  {
   "attachments": {},
   "cell_type": "markdown",
   "metadata": {},
   "source": [
    "The block below is **_OPTIONAL_**. It allows you to run the scraper on websites one at a time. It requires the following input:\n",
    "- BASE_URL: The base URL including the protocol.\n",
    "\n",
    "This is useful for the website(s) below, where there is a hard-coded records limit.\n",
    "\n",
    "- https://www.afeprbullets.com/results.php?Submit5=Search&strength=Positive&rec=8124\n",
    "\n",
    "**_IMPORTANT NOTE_**: once success has been logged, wait 30 more seconds and stop the script, otherwise you will be waiting a really long time for it to shutdown."
   ]
  },
  {
   "cell_type": "code",
   "execution_count": null,
   "metadata": {},
   "outputs": [],
   "source": [
    "BASE_URL = input(\"Enter a base url to scrape from\")\n",
    "\n",
    "!python3 scripts/scrape.py \"{BASE_URL}\""
   ]
  },
  {
   "attachments": {},
   "cell_type": "markdown",
   "metadata": {},
   "source": [
    "## Step 2: Clean the Scraped Data\n",
    "\n",
    "The scraped data requires some extra cleaning. This removes bullets that are clearly way too long or short, and provides proper spacing and formatting to bullets that do not follow the standard bullet format.\n",
    "\n",
    "- DIRTY_FILE: The name of the text file you want cleaned, from the `data/raw` directory"
   ]
  },
  {
   "cell_type": "code",
   "execution_count": null,
   "metadata": {},
   "outputs": [],
   "source": [
    "DIRTY_FILE = input(\"Enter a filename to clean\")\n",
    "\n",
    "!python3 scripts/clean.py \"{DIRTY_FILE}\""
   ]
  },
  {
   "attachments": {},
   "cell_type": "markdown",
   "metadata": {},
   "source": [
    "## Step 3: Consolidate the Cleaned Data\n",
    "\n",
    "Consolidate all clean, scraped bullet website outputs from the `data/raw` directory into one JSONL file."
   ]
  },
  {
   "cell_type": "code",
   "execution_count": null,
   "metadata": {},
   "outputs": [],
   "source": [
    "import os\n",
    "\n",
    "directory_path = \"../data/raw/\"\n",
    "\n",
    "file_paths = [os.path.join(root, file) for root, _, files in os.walk(directory_path) for file in files]\n",
    "\n",
    "file_paths_string = \" \".join(file_paths)\n",
    "\n",
    "!python3 scripts/consolidate.py {file_paths_string}"
   ]
  },
  {
   "cell_type": "markdown",
   "metadata": {},
   "source": [
    "## Step 4: Pull a T5 Pre-Trained Model\n",
    "\n",
    "A pre-trained model can be pulled from [Hugging Face](https://huggingface.co/) for use during the fine-tuning step of the Bullet Forge development process.\n",
    "\n",
    "- MODEL_NAME: The name of the model repository source (e.g., username/repository) for pulling from\n",
    "- MODEL_MAX_LENGTH: The maximum token length for the model to accept as input. Be aware that memory requirements quadruple when doubling the input sequence length for \"normal\" self-attention."
   ]
  },
  {
   "cell_type": "code",
   "execution_count": null,
   "metadata": {},
   "outputs": [],
   "source": [
    "MODEL_NAME = input(\"Insert Hugging Face model name\")\n",
    "MODEL_MAX_LENGTH = 512\n",
    "\n",
    "!python3 scripts/pull_model.py \"{MODEL_NAME}\" \"{MODEL_MAX_LENGTH}\""
   ]
  }
 ],
 "metadata": {
  "kernelspec": {
   "display_name": ".venv",
   "language": "python",
   "name": "python3"
  },
  "language_info": {
   "codemirror_mode": {
    "name": "ipython",
    "version": 3
   },
   "file_extension": ".py",
   "mimetype": "text/x-python",
   "name": "python",
   "nbconvert_exporter": "python",
   "pygments_lexer": "ipython3",
   "version": "3.11.4"
  },
  "orig_nbformat": 4
 },
 "nbformat": 4,
 "nbformat_minor": 2
}
