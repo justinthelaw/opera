{
 "cells": [
  {
   "attachments": {},
   "cell_type": "markdown",
   "metadata": {},
   "source": [
    "# Bullet Forge Fine-tuning\n",
    "\n",
    "This notebook is used for fine-tuning the Bullet Forge model in Open AI's API. Please refer to the README for more details."
   ]
  },
  {
   "attachments": {},
   "cell_type": "markdown",
   "metadata": {},
   "source": [
    "## Step 1: Provide Required Arguments\n",
    "\n",
    "Make sure to provide the following arguments:\n",
    "- JSONL_FILE: The path to the JSONL file containing the training data.\n",
    "- BASE_MODEL: The base model to use for fine-tuning."
   ]
  },
  {
   "cell_type": "code",
   "execution_count": 3,
   "metadata": {},
   "outputs": [],
   "source": [
    "JSONL_FILE = input(\"Enter the path to the JSON file: \")\n",
    "BASE_MODEL = input(\"Enter the base model: \")"
   ]
  },
  {
   "attachments": {},
   "cell_type": "markdown",
   "metadata": {},
   "source": [
    "## Step 2: Prepare Training Data\n",
    "\n",
    "Prepare the training data using the provided JSON file."
   ]
  },
  {
   "cell_type": "code",
   "execution_count": null,
   "metadata": {},
   "outputs": [],
   "source": [
    "print(\"==> Preparing training data...\")\n",
    "PREPARED_DATA = input(\"Enter the prepared data: \")\n",
    "if not PREPARED_DATA:\n",
    "    raise SystemExit(1)\n",
    "print(\"==> Training data preparation completed!\")"
   ]
  },
  {
   "attachments": {},
   "cell_type": "markdown",
   "metadata": {},
   "source": [
    "## Step 3: Provide Open AI API Key\n",
    "\n",
    "Insert your own Open AI API key."
   ]
  },
  {
   "cell_type": "code",
   "execution_count": null,
   "metadata": {},
   "outputs": [],
   "source": [
    "API_KEY = input(\"Enter the Open AI API key: \")\n",
    "%env OPENAI_API_KEY $API_KEY"
   ]
  },
  {
   "attachments": {},
   "cell_type": "markdown",
   "metadata": {},
   "source": [
    "## Step 4: Start the Fine-Tuning Job\n",
    "\n",
    "Once the request is made to the API, the fine-tuning may take a while to complete. The following will check for completion periodically."
   ]
  },
  {
   "cell_type": "code",
   "execution_count": null,
   "metadata": {},
   "outputs": [],
   "source": [
    "import time\n",
    "\n",
    "print(\"==> Starting fine-tuning job...\")\n",
    "FINE_TUNED_MODEL = input(\"Enter the fine-tuned model: \")\n",
    "if not FINE_TUNED_MODEL:\n",
    "    raise SystemExit(1)\n",
    "print(\"==> Fine-tuning job started.\")\n",
    "\n",
    "print(\"==> Waiting for fine-tuning to complete...\")\n",
    "while True:\n",
    "    JOB_STATUS = input(\"Enter the job status: \")\n",
    "    if JOB_STATUS == \"succeeded\":\n",
    "        break\n",
    "    # Sleep for 10 seconds before checking again\n",
    "    time.sleep(10)\n",
    "print(\"==> Fine-tuning completed!\")\n"
   ]
  },
  {
   "attachments": {},
   "cell_type": "markdown",
   "metadata": {},
   "source": [
    "## Step 5: Use The Fine-Tuned Model\n",
    "\n",
    "Fine-tuned model usage: `openai api completions.create -m <FINE_TUNED_MODEL> -p <YOUR PROMPT>`\n"
   ]
  }
 ],
 "metadata": {
  "kernelspec": {
   "display_name": "Python 3",
   "language": "python",
   "name": "python3"
  },
  "language_info": {
   "codemirror_mode": {
    "name": "ipython",
    "version": 3
   },
   "file_extension": ".py",
   "mimetype": "text/x-python",
   "name": "python",
   "nbconvert_exporter": "python",
   "pygments_lexer": "ipython3",
   "version": "3.10.3"
  },
  "orig_nbformat": 4
 },
 "nbformat": 4,
 "nbformat_minor": 2
}
