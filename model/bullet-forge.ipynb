{
 "cells": [
  {
   "attachments": {},
   "cell_type": "markdown",
   "metadata": {},
   "source": [
    "# Bullet Forge Fine-tuning\n",
    "\n",
    "This notebook is used for fine-tuning the Bullet Forge model in Open AI's API. Please refer to the README for more details."
   ]
  },
  {
   "attachments": {},
   "cell_type": "markdown",
   "metadata": {},
   "source": [
    "## Step 1: Provide Required Arguments\n",
    "\n",
    "Make sure to inject your environment variables by executing the following at the root of the repository:\n",
    "\n",
    "```bash\n",
    "# if using venv\n",
    "source ~/smarter-bullets/.venv/bin/activate\n",
    "# source env file\n",
    "source ./config/.env.local\n",
    "```\n",
    "\n",
    "Make sure to provide the following arguments:\n",
    "- JSONL_FILE: The path to the JSONL file containing the training data.\n",
    "- BASE_MODEL: The base model to use for fine-tuning."
   ]
  },
  {
   "cell_type": "code",
   "execution_count": 19,
   "metadata": {},
   "outputs": [
    {
     "name": "stdout",
     "output_type": "stream",
     "text": [
      "Provided JSONL file path: ./example-data.jsonl\n",
      "OpenAI base model: ada-003-text\n"
     ]
    }
   ],
   "source": [
    "JSONL_FILE = input(\"Enter the path to the JSON file: \")\n",
    "print(f\"Provided JSONL file path: {JSONL_FILE}\")\n",
    "BASE_MODEL = input(\"Enter the base model: \")\n",
    "print(f\"OpenAI base model: {BASE_MODEL}\")"
   ]
  },
  {
   "attachments": {},
   "cell_type": "markdown",
   "metadata": {},
   "source": [
    "## Step 2: Prepare Training Data\n",
    "\n",
    "Prepare the training data using the provided JSON file."
   ]
  },
  {
   "cell_type": "code",
   "execution_count": 13,
   "metadata": {},
   "outputs": [
    {
     "name": "stdout",
     "output_type": "stream",
     "text": [
      "Preparing training data...\n",
      "Analyzing...\n",
      "\n",
      "- Your file contains 3 prompt-completion pairs. In general, we recommend having at least a few hundred examples. We've found that performance tends to linearly increase for every doubling of the number of examples\n",
      "- All prompts end with suffix `ation>`\n",
      "- All prompts start with prefix `<prompt for `\n",
      "Failed to analyze training data.\n",
      "Error: \n",
      "\n",
      "ERROR in common_suffix validator: All completions are identical: `<ideal generated bullet>`\n",
      "Ensure completions are different, otherwise the model will just repeat `<ideal generated bullet>`\n",
      "\n",
      "Aborting...\n"
     ]
    }
   ],
   "source": [
    "import subprocess\n",
    "\n",
    "print(\"Preparing training data...\")\n",
    "if not JSONL_FILE:\n",
    "    exit\n",
    "PREPARED_DATA = subprocess.run(['openai', 'tools', 'fine_tunes.prepare_data', '-f', JSONL_FILE], capture_output=True, text=True)\n",
    "print(PREPARED_DATA.stdout)\n",
    "if PREPARED_DATA.returncode == 0:\n",
    "    print(\"Training data looks good!\")\n",
    "else:\n",
    "    print(\"Failed to analyze training data.\")\n",
    "    print(f\"Error: {PREPARED_DATA.stderr}\")\n"
   ]
  },
  {
   "attachments": {},
   "cell_type": "markdown",
   "metadata": {},
   "source": [
    "## Step 3: Provide Open AI API Key\n",
    "\n",
    "The OpenAI API key will be taken from your environment."
   ]
  },
  {
   "cell_type": "code",
   "execution_count": 20,
   "metadata": {},
   "outputs": [
    {
     "name": "stdout",
     "output_type": "stream",
     "text": [
      "API_KEY: ***********\n"
     ]
    }
   ],
   "source": [
    "import os\n",
    "\n",
    "OPENAI_API_KEY = os.environ.get(\"OPENAI_API_KEY\")\n",
    "MASKED_OPENAI_API_KEY = \"*\" * len(OPENAI_API_KEY) if OPENAI_API_KEY else \"Error: No key found!\"\n",
    "\n",
    "print(\"API_KEY:\", MASKED_OPENAI_API_KEY)"
   ]
  },
  {
   "attachments": {},
   "cell_type": "markdown",
   "metadata": {},
   "source": [
    "## Step 4: Start the Fine-Tuning Job\n",
    "\n",
    "Once the request is made to the API, the fine-tuning may take a while to complete. The following will check for completion periodically."
   ]
  },
  {
   "cell_type": "code",
   "execution_count": 23,
   "metadata": {},
   "outputs": [
    {
     "name": "stdout",
     "output_type": "stream",
     "text": [
      "==> Starting fine-tuning job...\n",
      "==> Fine-tuning job started.\n"
     ]
    },
    {
     "ename": "AttributeError",
     "evalue": "module 'openai' has no attribute 'FineTuning'",
     "output_type": "error",
     "traceback": [
      "\u001b[0;31m---------------------------------------------------------------------------\u001b[0m",
      "\u001b[0;31mAttributeError\u001b[0m                            Traceback (most recent call last)",
      "Cell \u001b[0;32mIn[23], line 8\u001b[0m\n\u001b[1;32m      5\u001b[0m     exit\n\u001b[1;32m      6\u001b[0m \u001b[39mprint\u001b[39m(\u001b[39m\"\u001b[39m\u001b[39m==> Fine-tuning job started.\u001b[39m\u001b[39m\"\u001b[39m)\n\u001b[0;32m----> 8\u001b[0m response \u001b[39m=\u001b[39m openai\u001b[39m.\u001b[39;49mFineTuning\u001b[39m.\u001b[39mcreate(\n\u001b[1;32m      9\u001b[0m   model\u001b[39m=\u001b[39mBASE_MODEL,\n\u001b[1;32m     10\u001b[0m   training_data\u001b[39m=\u001b[39mJSONL_FILE\n\u001b[1;32m     11\u001b[0m )\n\u001b[1;32m     13\u001b[0m \u001b[39mprint\u001b[39m(\u001b[39m\"\u001b[39m\u001b[39m==> Fine-tuning in-progress...\u001b[39m\u001b[39m\"\u001b[39m)\n\u001b[1;32m     14\u001b[0m \u001b[39mif\u001b[39;00m response\u001b[39m.\u001b[39mstatus_code \u001b[39m==\u001b[39m \u001b[39m200\u001b[39m:\n",
      "\u001b[0;31mAttributeError\u001b[0m: module 'openai' has no attribute 'FineTuning'"
     ]
    }
   ],
   "source": [
    "import openai\n",
    "\n",
    "print(\"==> Starting fine-tuning job...\")\n",
    "if not BASE_MODEL and PREPARED_DATA.returncode == 0:\n",
    "    exit\n",
    "print(\"==> Fine-tuning job started.\")\n",
    "\n",
    "response = openai.FineTune.create(\n",
    "  model=BASE_MODEL,\n",
    "  training_data=JSONL_FILE\n",
    ")\n",
    "\n",
    "print(\"==> Fine-tuning in-progress...\")\n",
    "if response.status_code == 200:\n",
    "  print(f\"Fine-tuned Model ID: {response.json()['id']}\")\n",
    "else:\n",
    "  print(f\"Error Occurred: {response.json()['error']}\")\n",
    "  exit\n",
    "\n",
    "print(\"==> Fine-tuning completed!\")"
   ]
  },
  {
   "attachments": {},
   "cell_type": "markdown",
   "metadata": {},
   "source": [
    "## Step 5: Use The Fine-Tuned Model\n",
    "\n",
    "Fine-tuned model usage: \n",
    "\n",
    "```bash\n",
    "openai api completions.create -m <FINE_TUNED_MODEL> -p <YOUR PROMPT>\n",
    "```\n"
   ]
  }
 ],
 "metadata": {
  "kernelspec": {
   "display_name": "Python 3",
   "language": "python",
   "name": "python3"
  },
  "language_info": {
   "codemirror_mode": {
    "name": "ipython",
    "version": 3
   },
   "file_extension": ".py",
   "mimetype": "text/x-python",
   "name": "python",
   "nbconvert_exporter": "python",
   "pygments_lexer": "ipython3",
   "version": "3.11.4"
  },
  "orig_nbformat": 4
 },
 "nbformat": 4,
 "nbformat_minor": 2
}
