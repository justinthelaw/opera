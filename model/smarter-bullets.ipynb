# Import necessary libraries
import openai
import json
# Define base model and training data
base_model = "text-davinci-002"
training_data = json.load(open("example-data.jsonl"))
# Send API request to OpenAI
response = openai.FineTuning.create(
  model=base_model,
  training_data=training_data
)
# Handle response
if response.status_code == 200:
  print(f"Model ID: {response.json()['id']}")
else:
  print(f"Error: {response.json()['error']}")

